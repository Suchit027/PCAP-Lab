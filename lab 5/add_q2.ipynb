{
  "nbformat": 4,
  "nbformat_minor": 0,
  "metadata": {
    "colab": {
      "provenance": [],
      "gpuType": "T4",
      "authorship_tag": "ABX9TyPOzqUROjMbyvpL0wLIHm4S",
      "include_colab_link": true
    },
    "kernelspec": {
      "name": "python3",
      "display_name": "Python 3"
    },
    "language_info": {
      "name": "python"
    },
    "accelerator": "GPU"
  },
  "cells": [
    {
      "cell_type": "markdown",
      "metadata": {
        "id": "view-in-github",
        "colab_type": "text"
      },
      "source": [
        "<a href=\"https://colab.research.google.com/github/Suchit027/PCAP-Lab/blob/main/lab%205/add_q2.ipynb\" target=\"_parent\"><img src=\"https://colab.research.google.com/assets/colab-badge.svg\" alt=\"Open In Colab\"/></a>"
      ]
    },
    {
      "cell_type": "code",
      "source": [
        "%%writefile add_q2.cu\n",
        "#include <stdio.h>\n",
        "#include <stdlib.h>\n",
        "#include \"cuda_runtime.h\"\n",
        "#include \"device_launch_parameters.h\"\n",
        "\n",
        "__global__ void sort(int *arr, int threadlimit, int blocklimit, int n){\n",
        "  int t = threadIdx.x, b = blockIdx.x;\n",
        "  if(t < threadlimit && b < blocklimit){\n",
        "    int index = ((b * threadlimit) + t) * n;\n",
        "      for(int i = 0; i < n; ++i){\n",
        "        for(int j = i + 1; j < n; ++j){\n",
        "          if(arr[index + i] > arr[index + j]){\n",
        "            int t = arr[index + i];\n",
        "            arr[index + i] = arr[index + j];\n",
        "            arr[index + j] = t;\n",
        "          }\n",
        "        }\n",
        "      }\n",
        "  }\n",
        "  return;\n",
        "}\n",
        "\n",
        "int main(){\n",
        "  int *arr, m, n;\n",
        "  printf(\"enter rows and cols\\n\");\n",
        "  scanf(\"%d %d\", &m, &n);\n",
        "  printf(\"enter the elements\\n\");\n",
        "  arr = (int *)malloc(m * n * sizeof(int));\n",
        "  for(int i = 0; i < m; ++i){\n",
        "    for(int j = 0; j < n; ++j){\n",
        "      scanf(\"%d\", &arr[(i * n) + j]);\n",
        "    }\n",
        "  }\n",
        "  int *da;\n",
        "  cudaMalloc((void **)&da, m * n * sizeof(int));\n",
        "  int threadlimit, blocklimit;\n",
        "  printf(\"enter threadlimit\\n\");\n",
        "  scanf(\"%d\", &threadlimit);\n",
        "  if(m % threadlimit == 0){\n",
        "    blocklimit = m / threadlimit;\n",
        "  }\n",
        "  else{\n",
        "    blocklimit = (m / threadlimit) + 1;\n",
        "  }\n",
        "  cudaMemcpy(da, arr, m * n * sizeof(int), cudaMemcpyHostToDevice);\n",
        "  sort<<<blocklimit, threadlimit>>>(da, threadlimit, blocklimit, n);\n",
        "  cudaMemcpy(arr, da, m * n * sizeof(int), cudaMemcpyDeviceToHost);\n",
        "  for(int i = 0; i < m; ++i){\n",
        "    for(int j = 0; j < n; ++j){\n",
        "      printf(\"%d \", arr[(i * n) + j]);\n",
        "    }\n",
        "    printf(\"\\n\");\n",
        "  }\n",
        "  cudaFree(da);\n",
        "  free(arr);\n",
        "  return 0;\n",
        "}"
      ],
      "metadata": {
        "colab": {
          "base_uri": "https://localhost:8080/"
        },
        "id": "jQsSMEt4ZBcq",
        "outputId": "74aa928f-94f4-41b1-a8ca-7d68a5ed5d38"
      },
      "execution_count": 6,
      "outputs": [
        {
          "output_type": "stream",
          "name": "stdout",
          "text": [
            "Overwriting add_q2.cu\n"
          ]
        }
      ]
    },
    {
      "cell_type": "code",
      "source": [
        "!nvcc -arch=compute_75 -code=sm_75 add_q2.cu -o add_q2.out\n"
      ],
      "metadata": {
        "id": "rWybdJk5j2Zn"
      },
      "execution_count": 7,
      "outputs": []
    },
    {
      "cell_type": "code",
      "source": [
        "!./add_q2.out"
      ],
      "metadata": {
        "colab": {
          "base_uri": "https://localhost:8080/"
        },
        "id": "RvZF4HBsjy6b",
        "outputId": "4bfcc412-ae3f-4c09-8f5a-37369dca6029"
      },
      "execution_count": 8,
      "outputs": [
        {
          "output_type": "stream",
          "name": "stdout",
          "text": [
            "enter rows and cols\n",
            "3 3\n",
            "enter the elements\n",
            "1 2 3\n",
            "3 2 1\n",
            "1 2 3\n",
            "enter threadlimit\n",
            "1\n",
            "1 2 3 \n",
            "1 2 3 \n",
            "1 2 3 \n"
          ]
        }
      ]
    },
    {
      "cell_type": "code",
      "source": [],
      "metadata": {
        "id": "JpKxGHHzx7m3"
      },
      "execution_count": null,
      "outputs": []
    }
  ]
}