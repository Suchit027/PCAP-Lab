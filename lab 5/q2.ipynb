{
  "nbformat": 4,
  "nbformat_minor": 0,
  "metadata": {
    "colab": {
      "provenance": [],
      "gpuType": "T4",
      "authorship_tag": "ABX9TyME4tMMmUqB21zyiTfeOGGw",
      "include_colab_link": true
    },
    "kernelspec": {
      "name": "python3",
      "display_name": "Python 3"
    },
    "language_info": {
      "name": "python"
    },
    "accelerator": "GPU"
  },
  "cells": [
    {
      "cell_type": "markdown",
      "metadata": {
        "id": "view-in-github",
        "colab_type": "text"
      },
      "source": [
        "<a href=\"https://colab.research.google.com/github/Suchit027/PCAP-Lab/blob/main/lab%205/q2.ipynb\" target=\"_parent\"><img src=\"https://colab.research.google.com/assets/colab-badge.svg\" alt=\"Open In Colab\"/></a>"
      ]
    },
    {
      "cell_type": "code",
      "execution_count": 1,
      "metadata": {
        "colab": {
          "base_uri": "https://localhost:8080/"
        },
        "id": "e4oSSnnQvw4U",
        "outputId": "fdc6dae5-e318-4a2a-9df6-c4b5f4870981"
      },
      "outputs": [
        {
          "output_type": "stream",
          "name": "stdout",
          "text": [
            "--2025-02-01 18:22:27--  https://developer.download.nvidia.com/compute/cuda/11.8.0/local_installers/cuda_11.8.0_520.61.05_linux.run\n",
            "Resolving developer.download.nvidia.com (developer.download.nvidia.com)... 23.52.40.16, 23.52.40.40\n",
            "Connecting to developer.download.nvidia.com (developer.download.nvidia.com)|23.52.40.16|:443... connected.\n",
            "HTTP request sent, awaiting response... 200 OK\n",
            "Length: 4336730777 (4.0G) [application/octet-stream]\n",
            "Saving to: ‘cuda_11.8.0_520.61.05_linux.run’\n",
            "\n",
            "cuda_11.8.0_520.61. 100%[===================>]   4.04G   174MB/s    in 29s     \n",
            "\n",
            "2025-02-01 18:22:57 (141 MB/s) - ‘cuda_11.8.0_520.61.05_linux.run’ saved [4336730777/4336730777]\n",
            "\n"
          ]
        }
      ],
      "source": [
        "!wget https://developer.download.nvidia.com/compute/cuda/11.8.0/local_installers/cuda_11.8.0_520.61.05_linux.run\n",
        "!chmod +x cuda_11.8.0_520.61.05_linux.run\n",
        "!./cuda_11.8.0_520.61.05_linux.run --silent --toolkit"
      ]
    },
    {
      "cell_type": "code",
      "source": [
        "%%writefile q2.cu\n",
        "#include <stdio.h>\n",
        "#include <stdlib.h>\n",
        "#include \"cuda_runtime.h\"\n",
        "#include \"device_launch_parameters.h\"\n",
        "\n",
        "__global__ void add(int *a, int *b, int *c, int threadlimit, int blocklimit){\n",
        "  int t = threadIdx.x + 1;\n",
        "  int bl = blockIdx.x + 1;\n",
        "  int index = ((bl - 1) * threadlimit) + t - 1;\n",
        "  if (bl <= blocklimit && t <= threadlimit){\n",
        "    c[index] = a[index] + b[index];\n",
        "  }\n",
        "  return;\n",
        "}\n",
        "int main(){\n",
        "  int *a, *b, *c;\n",
        "  printf(\"enter n\\n\");\n",
        "  int n;\n",
        "  scanf(\"%d\", &n);\n",
        "  a = (int *)malloc(sizeof(int) * n);\n",
        "  b = (int *)malloc(sizeof(int) * n);\n",
        "  c = (int *)malloc(sizeof(int) * n);\n",
        "  printf(\"enter array a\\n\");\n",
        "  for(int i = 0; i < n; ++i){\n",
        "    scanf(\"%d\", &a[i]);\n",
        "  }\n",
        "  printf(\"enter array b\\n\");\n",
        "  for(int i = 0; i < n; ++i){\n",
        "    scanf(\"%d\", &b[i]);\n",
        "  }\n",
        "  printf(\"enter threadlimit less than 256\\n\");\n",
        "  int threadlimit;\n",
        "  scanf(\"%d\", &threadlimit);\n",
        "  int blocklimit;\n",
        "  if(n % threadlimit == 0){\n",
        "    blocklimit = n / threadlimit;\n",
        "  }\n",
        "  else{\n",
        "    blocklimit = (n / threadlimit) + 1;\n",
        "  }\n",
        "  int *da, *db, *dc;\n",
        "  cudaMalloc((void **)&da, n * sizeof(int));\n",
        "  cudaMalloc((void **)&db, n * sizeof(int));\n",
        "  cudaMalloc((void **)&dc, n * sizeof(int));\n",
        "  cudaMemcpy(da, a, n * sizeof(int), cudaMemcpyHostToDevice);\n",
        "  cudaMemcpy(db, b, n * sizeof(int), cudaMemcpyHostToDevice);\n",
        "  add<<<blocklimit, 256>>>(da, db, dc, threadlimit, blocklimit);\n",
        "  cudaMemcpy(c, dc, n * sizeof(int), cudaMemcpyDeviceToHost);\n",
        "  for(int i = 0; i < n; ++i){\n",
        "    printf(\"%d \", c[i]);\n",
        "  }\n",
        "  cudaFree(da);\n",
        "  cudaFree(db);\n",
        "  cudaFree(dc);\n",
        "  free(a);\n",
        "  free(b);\n",
        "  free(c);\n",
        "  return 0;\n",
        "}"
      ],
      "metadata": {
        "colab": {
          "base_uri": "https://localhost:8080/"
        },
        "id": "H_VHVf7vw98Z",
        "outputId": "a49a9e7d-9f91-4913-f85e-37cff991f22d"
      },
      "execution_count": 15,
      "outputs": [
        {
          "output_type": "stream",
          "name": "stdout",
          "text": [
            "Overwriting q2.cu\n"
          ]
        }
      ]
    },
    {
      "cell_type": "code",
      "source": [
        "!nvcc q2.cu -o q2.out"
      ],
      "metadata": {
        "id": "siR8YmbQz5Az"
      },
      "execution_count": 16,
      "outputs": []
    },
    {
      "cell_type": "code",
      "source": [
        "!./q2.out"
      ],
      "metadata": {
        "colab": {
          "base_uri": "https://localhost:8080/"
        },
        "id": "Gezg4hCtz_jI",
        "outputId": "abb5586e-b3ed-425e-b9fd-4eb4117b386a"
      },
      "execution_count": 18,
      "outputs": [
        {
          "output_type": "stream",
          "name": "stdout",
          "text": [
            "enter n\n",
            "4\n",
            "enter array a\n",
            "1 2 3 4\n",
            "enter array b\n",
            "1 2 3 4\n",
            "enter threadlimit less than 256\n",
            "2\n",
            "2 4 6 8 "
          ]
        }
      ]
    },
    {
      "cell_type": "code",
      "source": [],
      "metadata": {
        "id": "S_3AwBs40Ugl"
      },
      "execution_count": null,
      "outputs": []
    }
  ]
}