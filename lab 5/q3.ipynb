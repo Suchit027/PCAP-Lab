{
  "nbformat": 4,
  "nbformat_minor": 0,
  "metadata": {
    "colab": {
      "provenance": [],
      "gpuType": "T4",
      "authorship_tag": "ABX9TyNlhR1SeLAy6AwF9QSSuMOM",
      "include_colab_link": true
    },
    "kernelspec": {
      "name": "python3",
      "display_name": "Python 3"
    },
    "language_info": {
      "name": "python"
    },
    "accelerator": "GPU"
  },
  "cells": [
    {
      "cell_type": "markdown",
      "metadata": {
        "id": "view-in-github",
        "colab_type": "text"
      },
      "source": [
        "<a href=\"https://colab.research.google.com/github/Suchit027/PCAP-Lab/blob/main/lab%205/q3.ipynb\" target=\"_parent\"><img src=\"https://colab.research.google.com/assets/colab-badge.svg\" alt=\"Open In Colab\"/></a>"
      ]
    },
    {
      "cell_type": "code",
      "execution_count": 1,
      "metadata": {
        "colab": {
          "base_uri": "https://localhost:8080/"
        },
        "id": "WYDgEent5Ggz",
        "outputId": "8a7fe511-2749-4058-9afd-29e85da0de63"
      },
      "outputs": [
        {
          "output_type": "stream",
          "name": "stdout",
          "text": [
            "--2025-02-01 19:03:06--  https://developer.download.nvidia.com/compute/cuda/11.8.0/local_installers/cuda_11.8.0_520.61.05_linux.run\n",
            "Resolving developer.download.nvidia.com (developer.download.nvidia.com)... 23.32.29.16, 96.17.180.48\n",
            "Connecting to developer.download.nvidia.com (developer.download.nvidia.com)|23.32.29.16|:443... connected.\n",
            "HTTP request sent, awaiting response... 200 OK\n",
            "Length: 4336730777 (4.0G) [application/octet-stream]\n",
            "Saving to: ‘cuda_11.8.0_520.61.05_linux.run’\n",
            "\n",
            "cuda_11.8.0_520.61. 100%[===================>]   4.04G   207MB/s    in 24s     \n",
            "\n",
            "2025-02-01 19:03:31 (171 MB/s) - ‘cuda_11.8.0_520.61.05_linux.run’ saved [4336730777/4336730777]\n",
            "\n"
          ]
        }
      ],
      "source": [
        "!wget https://developer.download.nvidia.com/compute/cuda/11.8.0/local_installers/cuda_11.8.0_520.61.05_linux.run\n",
        "!chmod +x cuda_11.8.0_520.61.05_linux.run\n",
        "!./cuda_11.8.0_520.61.05_linux.run --silent --toolkit"
      ]
    },
    {
      "cell_type": "code",
      "source": [
        "%%writefile q3.cu\n",
        "#include <stdio.h>\n",
        "#include <stdlib.h>\n",
        "#include \"cuda_runtime.h\"\n",
        "#include \"device_launch_parameters.h\"\n",
        "__global__ void cal(double *a, int blocklimit, int threadlimit){\n",
        "  int t = threadIdx.x;\n",
        "  int b = blockIdx.x;\n",
        "  if(b <= blocklimit && t <= threadlimit){\n",
        "    int index = (b * threadlimit) + t;\n",
        "    a[index] = sin(a[index]);\n",
        "  }\n",
        "  return;\n",
        "}\n",
        "int main(){\n",
        "  double *a;\n",
        "  int n;\n",
        "  printf(\"enter n\\n\");\n",
        "  scanf(\"%d\", &n);\n",
        "  a = (double *)malloc(n * sizeof(double));\n",
        "  printf(\"enter the values\\n\");\n",
        "  for(int i = 0; i < n; ++i){\n",
        "    scanf(\"%lf\", &a[i]);\n",
        "  }\n",
        "  double *da;\n",
        "  cudaMalloc((void **)&da, n * sizeof(double));\n",
        "  cudaMemcpy(da, a, n * sizeof(double), cudaMemcpyHostToDevice);\n",
        "  int threadlimit;\n",
        "  printf(\"enter threadlimit\\n\");\n",
        "  scanf(\"%d\", &threadlimit);\n",
        "  int blocklimit;\n",
        "  if (n % threadlimit == 0){\n",
        "    blocklimit = n / threadlimit;\n",
        "  }\n",
        "  else{\n",
        "    blocklimit = (n / threadlimit) + 1;\n",
        "  }\n",
        "  cal<<<blocklimit, 256>>>(da, blocklimit, threadlimit);\n",
        "  cudaMemcpy(a, da, n * sizeof(double), cudaMemcpyDeviceToHost);\n",
        "  for(int i = 0; i < n; ++i){\n",
        "    printf(\"%lf \", a[i]);\n",
        "  }\n",
        "  return 0;\n",
        "}"
      ],
      "metadata": {
        "colab": {
          "base_uri": "https://localhost:8080/"
        },
        "id": "u02pGx2Q5NA1",
        "outputId": "22c8bfce-1dfb-476b-d102-ac51bf2adf66"
      },
      "execution_count": 6,
      "outputs": [
        {
          "output_type": "stream",
          "name": "stdout",
          "text": [
            "Overwriting q3.cu\n"
          ]
        }
      ]
    },
    {
      "cell_type": "code",
      "source": [
        "!nvcc q3.cu -o q3.out"
      ],
      "metadata": {
        "id": "xQrPqaJS-OKg"
      },
      "execution_count": 7,
      "outputs": []
    },
    {
      "cell_type": "code",
      "source": [
        "!./q3.out"
      ],
      "metadata": {
        "colab": {
          "base_uri": "https://localhost:8080/"
        },
        "id": "EKHzUR5n-SzC",
        "outputId": "e5b8a508-a042-429c-b752-24a877b7f93b"
      },
      "execution_count": 8,
      "outputs": [
        {
          "output_type": "stream",
          "name": "stdout",
          "text": [
            "enter n\n",
            "3\n",
            "enter the values\n",
            "30 60 90\n",
            "enter threadlimit\n",
            "1\n",
            "-0.988032 -0.304811 0.893997 "
          ]
        }
      ]
    },
    {
      "cell_type": "code",
      "source": [],
      "metadata": {
        "id": "o90lzqsW-b8X"
      },
      "execution_count": null,
      "outputs": []
    }
  ]
}