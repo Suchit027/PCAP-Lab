{
  "nbformat": 4,
  "nbformat_minor": 0,
  "metadata": {
    "colab": {
      "provenance": [],
      "gpuType": "T4",
      "authorship_tag": "ABX9TyOUZRSPhy+CnvKXx2tN/MHM",
      "include_colab_link": true
    },
    "kernelspec": {
      "name": "python3",
      "display_name": "Python 3"
    },
    "language_info": {
      "name": "python"
    },
    "accelerator": "GPU"
  },
  "cells": [
    {
      "cell_type": "markdown",
      "metadata": {
        "id": "view-in-github",
        "colab_type": "text"
      },
      "source": [
        "<a href=\"https://colab.research.google.com/github/Suchit027/PCAP-Lab/blob/main/lab%205/q1.ipynb\" target=\"_parent\"><img src=\"https://colab.research.google.com/assets/colab-badge.svg\" alt=\"Open In Colab\"/></a>"
      ]
    },
    {
      "cell_type": "code",
      "execution_count": 1,
      "metadata": {
        "colab": {
          "base_uri": "https://localhost:8080/"
        },
        "id": "gdpbRNJYj1PK",
        "outputId": "98f39056-0778-4e22-a8ff-114b679855a4"
      },
      "outputs": [
        {
          "output_type": "stream",
          "name": "stdout",
          "text": [
            "nvcc: NVIDIA (R) Cuda compiler driver\n",
            "Copyright (c) 2005-2024 NVIDIA Corporation\n",
            "Built on Thu_Jun__6_02:18:23_PDT_2024\n",
            "Cuda compilation tools, release 12.5, V12.5.82\n",
            "Build cuda_12.5.r12.5/compiler.34385749_0\n"
          ]
        }
      ],
      "source": [
        "!nvcc --version"
      ]
    },
    {
      "cell_type": "code",
      "source": [
        "!wget https://developer.download.nvidia.com/compute/cuda/11.8.0/local_installers/cuda_11.8.0_520.61.05_linux.run\n",
        "!chmod +x cuda_11.8.0_520.61.05_linux.run\n",
        "!./cuda_11.8.0_520.61.05_linux.run --silent --toolkit\n"
      ],
      "metadata": {
        "colab": {
          "base_uri": "https://localhost:8080/"
        },
        "id": "hsRPYaYdsbO3",
        "outputId": "6c6c9b04-7b44-4fdf-cce6-fcf31eed0db7"
      },
      "execution_count": 2,
      "outputs": [
        {
          "output_type": "stream",
          "name": "stdout",
          "text": [
            "--2025-02-01 18:07:06--  https://developer.download.nvidia.com/compute/cuda/11.8.0/local_installers/cuda_11.8.0_520.61.05_linux.run\n",
            "Resolving developer.download.nvidia.com (developer.download.nvidia.com)... 173.222.162.66, 173.222.162.44, 173.222.162.62, ...\n",
            "Connecting to developer.download.nvidia.com (developer.download.nvidia.com)|173.222.162.66|:443... connected.\n",
            "HTTP request sent, awaiting response... 200 OK\n",
            "Length: 4336730777 (4.0G) [application/octet-stream]\n",
            "Saving to: ‘cuda_11.8.0_520.61.05_linux.run’\n",
            "\n",
            "cuda_11.8.0_520.61.   0%[                    ]  26.00M  76.3MB/s    in 0.3s    \n",
            "\n",
            "2025-02-01 18:07:06 (76.3 MB/s) - Connection closed at byte 27262976. Retrying.\n",
            "\n",
            "--2025-02-01 18:07:07--  (try: 2)  https://developer.download.nvidia.com/compute/cuda/11.8.0/local_installers/cuda_11.8.0_520.61.05_linux.run\n",
            "Connecting to developer.download.nvidia.com (developer.download.nvidia.com)|173.222.162.66|:443... connected.\n",
            "HTTP request sent, awaiting response... 206 Partial Content\n",
            "Length: 4336730777 (4.0G), 4309467801 (4.0G) remaining [application/octet-stream]\n",
            "Saving to: ‘cuda_11.8.0_520.61.05_linux.run’\n",
            "\n",
            "cuda_11.8.0_520.61. 100%[===================>]   4.04G  42.0MB/s    in 2m 3s   \n",
            "\n",
            "2025-02-01 18:09:10 (33.4 MB/s) - ‘cuda_11.8.0_520.61.05_linux.run’ saved [4336730777/4336730777]\n",
            "\n"
          ]
        }
      ]
    },
    {
      "cell_type": "code",
      "source": [
        "%%writefile q1.cu\n",
        "#include <stdio.h>\n",
        "#include <stdlib.h>\n",
        "#include \"cuda_runtime.h\"\n",
        "#include \"device_launch_parameters.h\"\n",
        "\n",
        "__global__ void add(int *a, int *b, int *c, int n){\n",
        "  int index = threadIdx.x + blockIdx.x * blockDim.x;\n",
        "  if (index < n){\n",
        "    c[index] = a[index] + b[index];\n",
        "  }\n",
        "}\n",
        "\n",
        "int main(){\n",
        "  int n;\n",
        "  printf(\"enter n\\n\");\n",
        "  scanf(\"%d\", &n);\n",
        "  int *a, *b, *c;\n",
        "  a = (int *)malloc(n * sizeof(int));\n",
        "  b = (int *)malloc(n * sizeof(int));\n",
        "  c = (int *)malloc(n * sizeof(int));\n",
        "  printf(\"enter array a\\n\");\n",
        "  for(int i = 0; i < n; ++i){\n",
        "    scanf(\"%d\", &a[i]);\n",
        "  }\n",
        "  printf(\"enter array b\\n\");\n",
        "  for(int i = 0; i < n; ++i){\n",
        "    scanf(\"%d\", &b[i]);\n",
        "  }\n",
        "  int *da, *db, *dc;\n",
        "  cudaMalloc((void **)&da, n * sizeof(int));\n",
        "  cudaMalloc((void **)&db, n * sizeof(int));\n",
        "  cudaMalloc((void **)&dc, n * sizeof(int));\n",
        "  cudaMemcpy(da, a, n * sizeof(int), cudaMemcpyHostToDevice);\n",
        "  cudaMemcpy(db, b, n * sizeof(int), cudaMemcpyHostToDevice);\n",
        "  add<<<1, n>>>(da, db, dc, n);\n",
        "  cudaMemcpy(c, dc, n * sizeof(int), cudaMemcpyDeviceToHost);\n",
        "  for(int i = 0; i < n; ++i){\n",
        "    printf(\"%d \", c[i]);\n",
        "  }\n",
        "  free(a);\n",
        "  free(b);\n",
        "  free(c);\n",
        "  cudaFree(da);\n",
        "  cudaFree(db);\n",
        "  cudaFree(dc);\n",
        "  return 0;\n",
        "\n",
        "}\n"
      ],
      "metadata": {
        "colab": {
          "base_uri": "https://localhost:8080/"
        },
        "id": "vKHTs9hej4MJ",
        "outputId": "59c950e4-0999-4da4-f29c-4ddc909e8c79"
      },
      "execution_count": 3,
      "outputs": [
        {
          "output_type": "stream",
          "name": "stdout",
          "text": [
            "Overwriting q1.cu\n"
          ]
        }
      ]
    },
    {
      "cell_type": "code",
      "source": [
        "!nvcc q1.cu -o q1.out"
      ],
      "metadata": {
        "id": "6-76ZXbwqPTl"
      },
      "execution_count": 4,
      "outputs": []
    },
    {
      "cell_type": "code",
      "source": [
        "!./q1.out"
      ],
      "metadata": {
        "colab": {
          "base_uri": "https://localhost:8080/"
        },
        "id": "vGbOVjINqkIJ",
        "outputId": "ffbf4c1b-2025-495c-9e35-ceebe28aa63c"
      },
      "execution_count": 5,
      "outputs": [
        {
          "output_type": "stream",
          "name": "stdout",
          "text": [
            "enter n\n",
            "4\n",
            "enter array a\n",
            "1 2 3 4\n",
            "enter array b\n",
            "1 2 3 4\n",
            "2 4 6 8 "
          ]
        }
      ]
    },
    {
      "cell_type": "code",
      "source": [
        "\n"
      ],
      "metadata": {
        "id": "bq4RGpoPrHKm"
      },
      "execution_count": null,
      "outputs": []
    }
  ]
}