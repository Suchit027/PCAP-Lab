{
  "nbformat": 4,
  "nbformat_minor": 0,
  "metadata": {
    "colab": {
      "provenance": [],
      "gpuType": "T4",
      "authorship_tag": "ABX9TyPhnyEx79trVrnD7obvjKk2",
      "include_colab_link": true
    },
    "kernelspec": {
      "name": "python3",
      "display_name": "Python 3"
    },
    "language_info": {
      "name": "python"
    },
    "accelerator": "GPU"
  },
  "cells": [
    {
      "cell_type": "markdown",
      "metadata": {
        "id": "view-in-github",
        "colab_type": "text"
      },
      "source": [
        "<a href=\"https://colab.research.google.com/github/Suchit027/PCAP-Lab/blob/main/lab%205/add_q1.ipynb\" target=\"_parent\"><img src=\"https://colab.research.google.com/assets/colab-badge.svg\" alt=\"Open In Colab\"/></a>"
      ]
    },
    {
      "cell_type": "code",
      "execution_count": 1,
      "metadata": {
        "colab": {
          "base_uri": "https://localhost:8080/"
        },
        "id": "fDNuBYX-_Ygu",
        "outputId": "304f6207-258a-4385-e406-a7421a33afe1"
      },
      "outputs": [
        {
          "output_type": "stream",
          "name": "stdout",
          "text": [
            "--2025-02-01 19:30:52--  https://developer.download.nvidia.com/compute/cuda/11.8.0/local_installers/cuda_11.8.0_520.61.05_linux.run\n",
            "Resolving developer.download.nvidia.com (developer.download.nvidia.com)... 23.203.48.188, 23.203.48.192, 23.203.48.191, ...\n",
            "Connecting to developer.download.nvidia.com (developer.download.nvidia.com)|23.203.48.188|:443... connected.\n",
            "HTTP request sent, awaiting response... 200 OK\n",
            "Length: 4336730777 (4.0G) [application/octet-stream]\n",
            "Saving to: ‘cuda_11.8.0_520.61.05_linux.run’\n",
            "\n",
            "cuda_11.8.0_520.61. 100%[===================>]   4.04G  98.4MB/s    in 75s     \n",
            "\n",
            "2025-02-01 19:32:07 (55.4 MB/s) - ‘cuda_11.8.0_520.61.05_linux.run’ saved [4336730777/4336730777]\n",
            "\n"
          ]
        }
      ],
      "source": [
        "!wget https://developer.download.nvidia.com/compute/cuda/11.8.0/local_installers/cuda_11.8.0_520.61.05_linux.run\n",
        "!chmod +x cuda_11.8.0_520.61.05_linux.run\n",
        "!./cuda_11.8.0_520.61.05_linux.run --silent --toolkit"
      ]
    },
    {
      "cell_type": "code",
      "source": [
        "%%writefile add_q1.cu\n",
        "#include <stdio.h>\n",
        "#include <stdlib.h>\n",
        "#include \"cuda_runtime.h\"\n",
        "#include \"device_launch_parameters.h\"\n",
        "\n",
        "__global__ void cal(int *a, int threadlimit, int blocklimit, int al, int s){\n",
        "  int t = threadIdx.x;\n",
        "  int bl = blockIdx.x;\n",
        "  if (bl <= blocklimit && t <= threadlimit){\n",
        "    int index = (bl * threadlimit) + t;\n",
        "    a[index] = (a[index] * al) + s;\n",
        "  }\n",
        "  return;\n",
        "}\n",
        "int main(){\n",
        "  int *a;\n",
        "  printf(\"enter n\\n\");\n",
        "  int n;\n",
        "  scanf(\"%d\", &n);\n",
        "  a = (int *)malloc(sizeof(int) * n);\n",
        "  printf(\"enter array a\\n\");\n",
        "  for(int i = 0; i < n; ++i){\n",
        "    scanf(\"%d\", &a[i]);\n",
        "  }\n",
        "  int al, s;\n",
        "  printf(\"enter slope and intercept\\n\");\n",
        "  scanf(\"%d %d\", &al, &s);\n",
        "  printf(\"enter threadlimit less than 256\\n\");\n",
        "  int threadlimit;\n",
        "  scanf(\"%d\", &threadlimit);\n",
        "  int blocklimit;\n",
        "  if(n % threadlimit == 0){\n",
        "    blocklimit = n / threadlimit;\n",
        "  }\n",
        "  else{\n",
        "    blocklimit = (n / threadlimit) + 1;\n",
        "  }\n",
        "  int *da;\n",
        "  cudaMalloc((void **)&da, n * sizeof(int));\n",
        "  cudaMemcpy(da, a, n * sizeof(int), cudaMemcpyHostToDevice);\n",
        "  cal<<<blocklimit, threadlimit>>>(da, threadlimit, blocklimit, al, s);\n",
        "  cudaMemcpy(a, da, n * sizeof(int), cudaMemcpyDeviceToHost);\n",
        "  for(int i = 0; i < n; ++i){\n",
        "    printf(\"%d \", a[i]);\n",
        "  }\n",
        "  cudaFree(da);\n",
        "  free(a);\n",
        "  return 0;\n",
        "}"
      ],
      "metadata": {
        "colab": {
          "base_uri": "https://localhost:8080/"
        },
        "id": "p_MWqd5U_l2E",
        "outputId": "a0038e90-757a-4159-ca72-dd668e82cf91"
      },
      "execution_count": 16,
      "outputs": [
        {
          "output_type": "stream",
          "name": "stdout",
          "text": [
            "Overwriting add_q1.cu\n"
          ]
        }
      ]
    },
    {
      "cell_type": "code",
      "source": [
        "!nvcc add_q1.cu -o add_q1.out"
      ],
      "metadata": {
        "id": "2xEjpHq2BMGb"
      },
      "execution_count": 17,
      "outputs": []
    },
    {
      "cell_type": "code",
      "source": [
        "!./add_q1.out"
      ],
      "metadata": {
        "colab": {
          "base_uri": "https://localhost:8080/"
        },
        "id": "tZe39EnrBQkS",
        "outputId": "78fc465b-71ad-4edf-b0ff-60a8737f24f3"
      },
      "execution_count": 18,
      "outputs": [
        {
          "output_type": "stream",
          "name": "stdout",
          "text": [
            "enter n\n",
            "3\n",
            "enter array a\n",
            "1 2 3\n",
            "enter slope and intercept\n",
            "1 1\n",
            "enter threadlimit less than 256\n",
            "1\n",
            "1 2 3 "
          ]
        }
      ]
    },
    {
      "cell_type": "code",
      "source": [],
      "metadata": {
        "id": "hDARyL0LDetf"
      },
      "execution_count": null,
      "outputs": []
    }
  ]
}