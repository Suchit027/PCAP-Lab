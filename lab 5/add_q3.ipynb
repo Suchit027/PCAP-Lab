{
  "nbformat": 4,
  "nbformat_minor": 0,
  "metadata": {
    "colab": {
      "provenance": [],
      "gpuType": "T4",
      "authorship_tag": "ABX9TyPEqM6ooCkkVG1Plwcp8QxJ",
      "include_colab_link": true
    },
    "kernelspec": {
      "name": "python3",
      "display_name": "Python 3"
    },
    "language_info": {
      "name": "python"
    },
    "accelerator": "GPU"
  },
  "cells": [
    {
      "cell_type": "markdown",
      "metadata": {
        "id": "view-in-github",
        "colab_type": "text"
      },
      "source": [
        "<a href=\"https://colab.research.google.com/github/Suchit027/PCAP-Lab/blob/main/lab%205/add_q3.ipynb\" target=\"_parent\"><img src=\"https://colab.research.google.com/assets/colab-badge.svg\" alt=\"Open In Colab\"/></a>"
      ]
    },
    {
      "cell_type": "code",
      "source": [
        "!wget https://developer.download.nvidia.com/compute/cuda/11.8.0/local_installers/cuda_11.8.0_520.61.05_linux.run\n",
        "!chmod +x cuda_11.8.0_520.61.05_linux.run\n",
        "!./cuda_11.8.0_520.61.05_linux.run --silent --toolkit"
      ],
      "metadata": {
        "colab": {
          "base_uri": "https://localhost:8080/"
        },
        "id": "cfPcis5bZ1eA",
        "outputId": "599676f1-2b84-49e7-a39a-d23457758cac"
      },
      "execution_count": 22,
      "outputs": [
        {
          "output_type": "stream",
          "name": "stdout",
          "text": [
            "--2025-02-03 10:42:20--  https://developer.download.nvidia.com/compute/cuda/11.8.0/local_installers/cuda_11.8.0_520.61.05_linux.run\n",
            "Resolving developer.download.nvidia.com (developer.download.nvidia.com)... 23.52.40.32, 23.52.40.19, 23.52.40.33, ...\n",
            "Connecting to developer.download.nvidia.com (developer.download.nvidia.com)|23.52.40.32|:443... connected.\n",
            "HTTP request sent, awaiting response... 200 OK\n",
            "Length: 4336730777 (4.0G) [application/octet-stream]\n",
            "Saving to: ‘cuda_11.8.0_520.61.05_linux.run’\n",
            "\n",
            "cuda_11.8.0_520.61. 100%[===================>]   4.04G   191MB/s    in 31s     \n",
            "\n",
            "2025-02-03 10:42:51 (135 MB/s) - ‘cuda_11.8.0_520.61.05_linux.run’ saved [4336730777/4336730777]\n",
            "\n"
          ]
        }
      ]
    },
    {
      "cell_type": "code",
      "execution_count": 23,
      "metadata": {
        "id": "MQm-yyLk4DtP",
        "colab": {
          "base_uri": "https://localhost:8080/"
        },
        "outputId": "49b53284-1cc2-4064-c9a8-9c534e425629"
      },
      "outputs": [
        {
          "output_type": "stream",
          "name": "stdout",
          "text": [
            "Overwriting add_q3.cu\n"
          ]
        }
      ],
      "source": [
        "%%writefile add_q3.cu\n",
        "#include <stdio.h>\n",
        "#include <cuda_runtime.h>\n",
        "\n",
        "__global__ void evenPhase(int *arr, int n, int phase) {\n",
        "    int tid = blockIdx.x * blockDim.x + threadIdx.x;\n",
        "    int i = tid * 2;\n",
        "\n",
        "    if (i < n - 1) {  // Ensure we don't go out of bounds\n",
        "        if (arr[i] > arr[i + 1]) {\n",
        "            int temp = arr[i];\n",
        "            arr[i] = arr[i + 1];\n",
        "            arr[i + 1] = temp;\n",
        "        }\n",
        "    }\n",
        "}\n",
        "\n",
        "__global__ void oddPhase(int *arr, int n, int phase) {\n",
        "    int tid = blockIdx.x * blockDim.x + threadIdx.x;\n",
        "    int i = tid * 2 + 1;\n",
        "    if (i < n - 1) {\n",
        "        if (arr[i] > arr[i + 1]) {\n",
        "            int temp = arr[i];\n",
        "            arr[i] = arr[i + 1];\n",
        "            arr[i + 1] = temp;\n",
        "        }\n",
        "    }\n",
        "}\n",
        "\n",
        "void oddEvenSort(int *arr, int n) {\n",
        "    int *d_arr;\n",
        "    cudaMalloc(&d_arr, n * sizeof(int));\n",
        "    cudaMemcpy(d_arr, arr, n * sizeof(int), cudaMemcpyHostToDevice);\n",
        "\n",
        "    int blockSize = 256;\n",
        "    int gridSize = (n + blockSize - 1) / blockSize;\n",
        "\n",
        "    for (int phase = 0; phase < n; phase++) {\n",
        "        evenPhase<<<gridSize, blockSize>>>(d_arr, n, phase);\n",
        "        cudaDeviceSynchronize();\n",
        "        int temp[n];\n",
        "        cudaMemcpy(temp, d_arr, n * sizeof(int), cudaMemcpyDeviceToHost);\n",
        "        printf(\"After even phase %d: \", phase);\n",
        "        for (int i = 0; i < n; i++) printf(\"%d \", temp[i]);\n",
        "        printf(\"\\n\");\n",
        "        oddPhase<<<gridSize, blockSize>>>(d_arr, n, phase);\n",
        "        cudaDeviceSynchronize();\n",
        "        cudaMemcpy(temp, d_arr, n * sizeof(int), cudaMemcpyDeviceToHost);\n",
        "        printf(\"After odd phase %d: \", phase);\n",
        "        for (int i = 0; i < n; i++) printf(\"%d \", temp[i]);\n",
        "        printf(\"\\n\");\n",
        "    }\n",
        "\n",
        "    cudaMemcpy(arr, d_arr, n * sizeof(int), cudaMemcpyDeviceToHost);\n",
        "    cudaFree(d_arr);\n",
        "}\n",
        "\n",
        "int main() {\n",
        "    int n = 5;\n",
        "    int arr[] = {5, 3, 1, 2, 4};\n",
        "\n",
        "    printf(\"Initial array: \");\n",
        "    for (int i = 0; i < n; i++) printf(\"%d \", arr[i]);\n",
        "    printf(\"\\n\");\n",
        "\n",
        "    oddEvenSort(arr, n);\n",
        "\n",
        "    printf(\"Sorted array: \");\n",
        "    for (int i = 0; i < n; i++) printf(\"%d \", arr[i]);\n",
        "    printf(\"\\n\");\n",
        "\n",
        "    return 0;\n",
        "}\n",
        "\n",
        "\n"
      ]
    },
    {
      "cell_type": "code",
      "source": [
        "!nvcc add_q3.cu -o add_q3.out"
      ],
      "metadata": {
        "id": "oLAJf3IUXNQn"
      },
      "execution_count": 24,
      "outputs": []
    },
    {
      "cell_type": "code",
      "source": [
        "!./add_q3.out"
      ],
      "metadata": {
        "colab": {
          "base_uri": "https://localhost:8080/"
        },
        "id": "UaFlCOXVXaFT",
        "outputId": "e48a3aef-cfea-48e2-de8e-7c5ac6518f38"
      },
      "execution_count": 25,
      "outputs": [
        {
          "output_type": "stream",
          "name": "stdout",
          "text": [
            "Initial array: 5 3 1 2 4 \n",
            "After even phase 0: 3 5 1 2 4 \n",
            "After odd phase 0: 3 1 5 2 4 \n",
            "After even phase 1: 1 3 2 5 4 \n",
            "After odd phase 1: 1 2 3 4 5 \n",
            "After even phase 2: 1 2 3 4 5 \n",
            "After odd phase 2: 1 2 3 4 5 \n",
            "After even phase 3: 1 2 3 4 5 \n",
            "After odd phase 3: 1 2 3 4 5 \n",
            "After even phase 4: 1 2 3 4 5 \n",
            "After odd phase 4: 1 2 3 4 5 \n",
            "Sorted array: 1 2 3 4 5 \n"
          ]
        }
      ]
    },
    {
      "cell_type": "code",
      "source": [],
      "metadata": {
        "id": "eIuTDKSoXdDu"
      },
      "execution_count": null,
      "outputs": []
    },
    {
      "cell_type": "code",
      "source": [],
      "metadata": {
        "id": "3RdM3hr9Z0Pd"
      },
      "execution_count": null,
      "outputs": []
    }
  ]
}